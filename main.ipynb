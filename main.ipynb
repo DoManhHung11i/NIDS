{
 "cells": [
  {
   "cell_type": "code",
   "execution_count": 1,
   "metadata": {},
   "outputs": [],
   "source": [
    "from shared.utils import load_data\n",
    "from datasets import preprocess_dataset\n",
    "from intrusion_detection_systems import show_model_metrics\n",
    "import random\n",
    "import pandas as pd\n",
    "from shared.utils import MTDManager  # Thay thế MTDManager bằng AdaptiveMTDManager\n",
    "from sklearn.model_selection import train_test_split\n",
    "from sklearn.metrics import accuracy_score, precision_score, recall_score, f1_score, confusion_matrix"
   ]
  },
  {
   "cell_type": "code",
   "execution_count": 3,
   "metadata": {},
   "outputs": [],
   "source": [
    "def main(load_dataset: bool, seed: int):\n",
    "    random.seed(seed)\n",
    "    \n",
    "    if not load_dataset:\n",
    "        df = load_data(\n",
    "            [\n",
    "                \"./shared/data/CIC_2017/Friday-WorkingHours-Afternoon-DDos.pcap_ISCX.csv\",\n",
    "            ],\n",
    "            seed\n",
    "        )\n",
    "        print(\"Dataset loaded\")\n",
    "        \n",
    "        df_preprocessed = preprocess_dataset(\n",
    "            df, save=True, dataset_type=\"CIC_2017\", seed=seed, load=load_dataset, \n",
    "            name_save=name_data, name_load=name_data\n",
    "        )\n",
    "        print(\"Dataset preprocessed\")\n",
    "    else:\n",
    "        df_preprocessed = preprocess_dataset(\n",
    "            pd.DataFrame(), save=True, dataset_type=\"CIC_2017\", seed=seed, load=load_dataset, \n",
    "            name_save=name_data, name_load=name_data\n",
    "        )\n",
    "        print(\"Dataset preprocessed\")\n",
    "\n",
    "    # Chia dữ liệu kiểm tra (20% của tập dữ liệu)\n",
    "    x_test, y_test = df_preprocessed.x_test, df_preprocessed.y_test\n",
    "    x_test_sample, _, y_test_sample, _ = train_test_split(x_test, y_test, test_size=0.8, random_state=seed)\n",
    "    \n",
    "    # Định nghĩa đường dẫn mô hình\n",
    "    model_paths = {\n",
    "        \"KNN\": \"/home/kali/Desktop/NIDS/intrusion_detection_systems/models/saved_models/CIC_2017_KNN.pkl\",\n",
    "        \"RF\": \"/home/kali/Desktop/NIDS/intrusion_detection_systems/models/saved_models/CIC_2017_RF.pkl\",\n",
    "        \"MLP\": \"/home/kali/Desktop/NIDS/intrusion_detection_systems/models/saved_models/CIC_2017_MLP.pkl\"\n",
    "    }\n",
    "    \n",
    "    # Khởi tạo Adaptive MTD Manager\n",
    "    mtd = MTDManager(model_paths, switch_threshold=10, confidence_threshold=0.6)\n",
    "    \n",
    "    # Dự đoán\n",
    "    predictions = mtd.predict(x_test_sample)\n",
    "    \n",
    "    # Kiểm tra kích thước dự đoán\n",
    "    if len(predictions) != len(y_test_sample):\n",
    "        print(f\"Error: Mismatch in prediction size. Predictions: {len(predictions)}, Actual: {len(y_test_sample)}\")\n",
    "        return\n",
    "    \n",
    "    # Đánh giá kết quả\n",
    "    acc = accuracy_score(y_test_sample, predictions)\n",
    "    precision = precision_score(y_test_sample, predictions, average=\"weighted\", zero_division=1)\n",
    "    recall = recall_score(y_test_sample, predictions, average=\"weighted\", zero_division=1)\n",
    "    f1 = f1_score(y_test_sample, predictions, average=\"weighted\", zero_division=1)\n",
    "    conf_matrix = confusion_matrix(y_test_sample, predictions)\n",
    "\n",
    "    print(\"\\n===== Model Evaluation Metrics =====\")\n",
    "    print(f\"Accuracy: {acc:.4f}\")\n",
    "    print(f\"Precision: {precision:.4f}\")\n",
    "    print(f\"Recall: {recall:.4f}\")\n",
    "    print(f\"F1-score: {f1:.4f}\")\n",
    "    print(\"\\nConfusion Matrix:\")\n",
    "    print(conf_matrix)"
   ]
  },
  {
   "cell_type": "code",
   "execution_count": 4,
   "metadata": {},
   "outputs": [
    {
     "name": "stdout",
     "output_type": "stream",
     "text": [
      "Loading existing data\n",
      "Dataset preprocessed\n",
      "Loaded models: ['KNN', 'RF', 'MLP']\n",
      "\n",
      "===== Model Evaluation Metrics =====\n",
      "Accuracy: 0.9999\n",
      "Precision: 0.9999\n",
      "Recall: 0.9999\n",
      "F1-score: 0.9999\n",
      "\n",
      "Confusion Matrix:\n",
      "[[5806    2]\n",
      " [   0 7736]]\n"
     ]
    }
   ],
   "source": [
    "\n",
    "if __name__ == \"__main__\":\n",
    "    seed = 42\n",
    "    load_dataset = True\n",
    "    name_data = \"CIC-IDS_2017_2\"\n",
    "    main(load_dataset, seed)"
   ]
  }
 ],
 "metadata": {
  "kernelspec": {
   "display_name": "myenv",
   "language": "python",
   "name": "python3"
  },
  "language_info": {
   "codemirror_mode": {
    "name": "ipython",
    "version": 3
   },
   "file_extension": ".py",
   "mimetype": "text/x-python",
   "name": "python",
   "nbconvert_exporter": "python",
   "pygments_lexer": "ipython3",
   "version": "3.12.7"
  }
 },
 "nbformat": 4,
 "nbformat_minor": 2
}
