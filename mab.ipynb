{
 "cells": [
  {
   "cell_type": "code",
   "execution_count": 8,
   "metadata": {},
   "outputs": [],
   "source": [
    "import numpy as np\n",
    "import pandas as pd\n",
    "from shared.utils import load_data\n",
    "from datasets import preprocess_dataset, datasets_types\n",
    "from sklearn.neural_network import MLPClassifier\n",
    "from sklearn.cluster import KMeans\n",
    "from scipy.stats import beta as beta_dist\n",
    "from sklearn.ensemble import RandomForestClassifier\n",
    "from sklearn.tree import DecisionTreeClassifier\n",
    "from sklearn.naive_bayes import GaussianNB\n",
    "from sklearn.svm import SVC\n",
    "from sklearn.linear_model import LogisticRegression\n",
    "from sklearn.metrics import accuracy_score, precision_score, recall_score, f1_score, roc_auc_score\n",
    "from sklearn.metrics import classification_report\n",
    "from sklearn.metrics import f1_score, recall_score, roc_auc_score\n"
   ]
  },
  {
   "cell_type": "code",
   "execution_count": 9,
   "metadata": {},
   "outputs": [],
   "source": [
    "import os\n",
    "os.environ[\"LOKY_MAX_CPU_COUNT\"] = \"4\""
   ]
  },
  {
   "cell_type": "code",
   "execution_count": null,
   "metadata": {},
   "outputs": [
    {
     "name": "stdout",
     "output_type": "stream",
     "text": [
      "Loading existing data\n",
      "Dataset Preprocesado\n"
     ]
    }
   ],
   "source": [
    "load_dataset = True\n",
    "name = \"CIC-IDS_2017_2\"\n",
    "seed = 42\n",
    "if not load_dataset:\n",
    "    # Preprocesar el dataset\n",
    "    \"\"\"      \"\"\"\n",
    "    df = load_data(\n",
    "        [\n",
    "            \"./shared/data/CIC_2019/DrDoS_MSSQL.csv\"\n",
    "        ],\n",
    "        seed\n",
    "    )\n",
    "    print(\"Dataset cargado\")\n",
    "    df_preprocessed = preprocess_dataset(\n",
    "        df, save=True, dataset_type=\"CIC_2019\", seed=seed, load=load_dataset, name_save=name, name_load=name)\n",
    "    print(\"Dataset Preprocesado\")\n",
    "else:\n",
    "    df_preprocessed = preprocess_dataset(\n",
    "        pd.DataFrame(), save=True, dataset_type=\"CIC_2017\", seed=seed, load=load_dataset, name_save=name, name_load=name)\n",
    "    print(\"Dataset Preprocesado\")"
   ]
  },
  {
   "cell_type": "code",
   "execution_count": 28,
   "metadata": {},
   "outputs": [],
   "source": [
    "class MultiArmedBanditThompsonSampling:\n",
    "\n",
    "    def __init__(self, n_arms, n_clusters):\n",
    "        self.n_arms = n_arms\n",
    "        self.n_clusters = n_clusters\n",
    "        self.arms = [RandomForestClassifier(), DecisionTreeClassifier(),\n",
    "                     GaussianNB(), LogisticRegression(), MLPClassifier()]\n",
    "        self.cluster_centers = None\n",
    "        self.cluster_assignments = None\n",
    "        self.reward_sums = {}\n",
    "        for cluster in range(n_clusters):\n",
    "            self.reward_sums[cluster] = np.zeros(n_arms)\n",
    "        self.alpha = np.ones(self.n_arms)\n",
    "        self.beta = np.ones(self.n_arms)\n",
    "\n",
    "    def train(self, X_train, y_train):\n",
    "        kmeans = KMeans(n_clusters=self.n_clusters)\n",
    "        self.cluster_assignments = kmeans.fit_predict(X_train)\n",
    "        self.cluster_centers = kmeans.cluster_centers_\n",
    "        # Print the number of samples in each cluster\n",
    "\n",
    "        for i in range(self.n_clusters):\n",
    "            print('Cluster {}: {}'.format(\n",
    "                i, np.sum(self.cluster_assignments == i)))\n",
    "            cluster_mask = self.cluster_assignments == i\n",
    "            cluster_X_train = X_train[cluster_mask]\n",
    "            cluster_y_train = y_train[cluster_mask]\n",
    "            for arm in range(self.n_arms):\n",
    "                print('Training arm {} on cluster {}'.format(arm, i))\n",
    "                # arm_mask = cluster_y_train == arm\n",
    "                arm_mask = (cluster_y_train.values == arm).ravel()\n",
    "                print(\"cluster_X_train shape:\", cluster_X_train.shape)  # Số dòng, số cột của X\n",
    "                print(\"cluster_y_train shape:\", cluster_y_train.shape)  # Số dòng của y\n",
    "                print(\"arm_mask shape:\", arm_mask.shape)  # Kích thước của mask\n",
    "\n",
    "                arm_X_train = cluster_X_train[arm_mask]\n",
    "                arm_y_train = cluster_y_train[arm_mask]\n",
    "                if len(arm_X_train) > 0 and len(np.unique(arm_y_train)) > 1:\n",
    "                    self.arms[arm].fit(arm_X_train, arm_y_train)\n",
    "                else:\n",
    "                    self.arms[arm].fit(X_train, y_train)\n",
    "\n",
    "        # Set the arms rewards for each cluster\n",
    "        for i in range(self.n_clusters):\n",
    "            cluster_mask = self.cluster_assignments == i\n",
    "            cluster_X_test = X_train[cluster_mask]\n",
    "            cluster_y_test = y_train[cluster_mask]\n",
    "            for arm in range(self.n_arms):\n",
    "                print('Setting reward_sums arm {} on cluster {}'.format(arm, i))\n",
    "                arm_mask = (cluster_y_test.values == arm).ravel()\n",
    "                arm_X_test = cluster_X_test[arm_mask]\n",
    "                arm_y_test = cluster_y_test[arm_mask]\n",
    "                if len(arm_X_test) > 0:\n",
    "                    arm_y_pred = self.arms[arm].predict(arm_X_test)\n",
    "                    self.reward_sums[i][arm] = np.mean(\n",
    "                        arm_y_pred ==  arm_y_test.values.ravel())\n",
    "\n",
    "    def select_arm(self, cluster):\n",
    "        # Select the arm with the highest reward\n",
    "        theta = np.zeros(self.n_arms)\n",
    "        for arm in range(self.n_arms):\n",
    "            theta[arm] = np.random.beta(self.alpha[arm] + self.reward_sums[cluster]\n",
    "                                        [arm], self.beta[arm] + 1 - self.reward_sums[cluster][arm])\n",
    "        return np.argmax(theta)\n",
    "\n",
    "    def predict(self, X_test):\n",
    "        # Select the arm for each sample\n",
    "        arms = np.zeros(len(X_test))\n",
    "        for i in range(len(X_test)):\n",
    "            cluster = np.argmin(np.linalg.norm(\n",
    "                self.cluster_centers - X_test[i], axis=1))\n",
    "            arms[i] = self.select_arm(cluster)\n",
    "        # Predict using the selected arm\n",
    "        y_pred = np.zeros(len(X_test))\n",
    "        for arm in range(self.n_arms):\n",
    "            arm_mask = arms == arm\n",
    "            arm_X_test = X_test[arm_mask]\n",
    "            if len(arm_X_test) > 0:\n",
    "                y_pred[arm_mask] = self.arms[arm].predict(arm_X_test)\n",
    "        return y_pred, arms"
   ]
  },
  {
   "cell_type": "code",
   "execution_count": 32,
   "metadata": {},
   "outputs": [
    {
     "name": "stdout",
     "output_type": "stream",
     "text": [
      "Cluster 0: 92469\n",
      "Training arm 0 on cluster 0\n",
      "cluster_X_train shape: (92469, 69)\n",
      "cluster_y_train shape: (92469, 1)\n",
      "arm_mask shape: (92469,)\n"
     ]
    },
    {
     "name": "stderr",
     "output_type": "stream",
     "text": [
      "d:\\anaconda3\\envs\\menv\\lib\\site-packages\\sklearn\\base.py:1389: DataConversionWarning: A column-vector y was passed when a 1d array was expected. Please change the shape of y to (n_samples,), for example using ravel().\n",
      "  return fit_method(estimator, *args, **kwargs)\n"
     ]
    },
    {
     "name": "stdout",
     "output_type": "stream",
     "text": [
      "Training arm 1 on cluster 0\n",
      "cluster_X_train shape: (92469, 69)\n",
      "cluster_y_train shape: (92469, 1)\n",
      "arm_mask shape: (92469,)\n",
      "Training arm 2 on cluster 0\n",
      "cluster_X_train shape: (92469, 69)\n",
      "cluster_y_train shape: (92469, 1)\n",
      "arm_mask shape: (92469,)\n"
     ]
    },
    {
     "name": "stderr",
     "output_type": "stream",
     "text": [
      "d:\\anaconda3\\envs\\menv\\lib\\site-packages\\sklearn\\utils\\validation.py:1408: DataConversionWarning: A column-vector y was passed when a 1d array was expected. Please change the shape of y to (n_samples, ), for example using ravel().\n",
      "  y = column_or_1d(y, warn=True)\n"
     ]
    },
    {
     "name": "stdout",
     "output_type": "stream",
     "text": [
      "Training arm 3 on cluster 0\n",
      "cluster_X_train shape: (92469, 69)\n",
      "cluster_y_train shape: (92469, 1)\n",
      "arm_mask shape: (92469,)\n"
     ]
    },
    {
     "name": "stderr",
     "output_type": "stream",
     "text": [
      "d:\\anaconda3\\envs\\menv\\lib\\site-packages\\sklearn\\utils\\validation.py:1408: DataConversionWarning: A column-vector y was passed when a 1d array was expected. Please change the shape of y to (n_samples, ), for example using ravel().\n",
      "  y = column_or_1d(y, warn=True)\n"
     ]
    },
    {
     "name": "stdout",
     "output_type": "stream",
     "text": [
      "Training arm 4 on cluster 0\n",
      "cluster_X_train shape: (92469, 69)\n",
      "cluster_y_train shape: (92469, 1)\n",
      "arm_mask shape: (92469,)\n"
     ]
    },
    {
     "name": "stderr",
     "output_type": "stream",
     "text": [
      "d:\\anaconda3\\envs\\menv\\lib\\site-packages\\sklearn\\neural_network\\_multilayer_perceptron.py:1124: DataConversionWarning: A column-vector y was passed when a 1d array was expected. Please change the shape of y to (n_samples, ), for example using ravel().\n",
      "  y = column_or_1d(y, warn=True)\n"
     ]
    },
    {
     "name": "stdout",
     "output_type": "stream",
     "text": [
      "Cluster 1: 204140\n",
      "Training arm 0 on cluster 1\n",
      "cluster_X_train shape: (204140, 69)\n",
      "cluster_y_train shape: (204140, 1)\n",
      "arm_mask shape: (204140,)\n"
     ]
    },
    {
     "name": "stderr",
     "output_type": "stream",
     "text": [
      "d:\\anaconda3\\envs\\menv\\lib\\site-packages\\sklearn\\base.py:1389: DataConversionWarning: A column-vector y was passed when a 1d array was expected. Please change the shape of y to (n_samples,), for example using ravel().\n",
      "  return fit_method(estimator, *args, **kwargs)\n"
     ]
    },
    {
     "name": "stdout",
     "output_type": "stream",
     "text": [
      "Training arm 1 on cluster 1\n",
      "cluster_X_train shape: (204140, 69)\n",
      "cluster_y_train shape: (204140, 1)\n",
      "arm_mask shape: (204140,)\n",
      "Training arm 2 on cluster 1\n",
      "cluster_X_train shape: (204140, 69)\n",
      "cluster_y_train shape: (204140, 1)\n",
      "arm_mask shape: (204140,)\n"
     ]
    },
    {
     "name": "stderr",
     "output_type": "stream",
     "text": [
      "d:\\anaconda3\\envs\\menv\\lib\\site-packages\\sklearn\\utils\\validation.py:1408: DataConversionWarning: A column-vector y was passed when a 1d array was expected. Please change the shape of y to (n_samples, ), for example using ravel().\n",
      "  y = column_or_1d(y, warn=True)\n"
     ]
    },
    {
     "name": "stdout",
     "output_type": "stream",
     "text": [
      "Training arm 3 on cluster 1\n",
      "cluster_X_train shape: (204140, 69)\n",
      "cluster_y_train shape: (204140, 1)\n",
      "arm_mask shape: (204140,)\n"
     ]
    },
    {
     "name": "stderr",
     "output_type": "stream",
     "text": [
      "d:\\anaconda3\\envs\\menv\\lib\\site-packages\\sklearn\\utils\\validation.py:1408: DataConversionWarning: A column-vector y was passed when a 1d array was expected. Please change the shape of y to (n_samples, ), for example using ravel().\n",
      "  y = column_or_1d(y, warn=True)\n"
     ]
    },
    {
     "name": "stdout",
     "output_type": "stream",
     "text": [
      "Training arm 4 on cluster 1\n",
      "cluster_X_train shape: (204140, 69)\n",
      "cluster_y_train shape: (204140, 1)\n",
      "arm_mask shape: (204140,)\n"
     ]
    },
    {
     "name": "stderr",
     "output_type": "stream",
     "text": [
      "d:\\anaconda3\\envs\\menv\\lib\\site-packages\\sklearn\\neural_network\\_multilayer_perceptron.py:1124: DataConversionWarning: A column-vector y was passed when a 1d array was expected. Please change the shape of y to (n_samples, ), for example using ravel().\n",
      "  y = column_or_1d(y, warn=True)\n"
     ]
    },
    {
     "name": "stdout",
     "output_type": "stream",
     "text": [
      "Cluster 2: 195662\n",
      "Training arm 0 on cluster 2\n",
      "cluster_X_train shape: (195662, 69)\n",
      "cluster_y_train shape: (195662, 1)\n",
      "arm_mask shape: (195662,)\n"
     ]
    },
    {
     "name": "stderr",
     "output_type": "stream",
     "text": [
      "d:\\anaconda3\\envs\\menv\\lib\\site-packages\\sklearn\\base.py:1389: DataConversionWarning: A column-vector y was passed when a 1d array was expected. Please change the shape of y to (n_samples,), for example using ravel().\n",
      "  return fit_method(estimator, *args, **kwargs)\n"
     ]
    },
    {
     "name": "stdout",
     "output_type": "stream",
     "text": [
      "Training arm 1 on cluster 2\n",
      "cluster_X_train shape: (195662, 69)\n",
      "cluster_y_train shape: (195662, 1)\n",
      "arm_mask shape: (195662,)\n",
      "Training arm 2 on cluster 2\n",
      "cluster_X_train shape: (195662, 69)\n",
      "cluster_y_train shape: (195662, 1)\n",
      "arm_mask shape: (195662,)\n"
     ]
    },
    {
     "name": "stderr",
     "output_type": "stream",
     "text": [
      "d:\\anaconda3\\envs\\menv\\lib\\site-packages\\sklearn\\utils\\validation.py:1408: DataConversionWarning: A column-vector y was passed when a 1d array was expected. Please change the shape of y to (n_samples, ), for example using ravel().\n",
      "  y = column_or_1d(y, warn=True)\n"
     ]
    },
    {
     "name": "stdout",
     "output_type": "stream",
     "text": [
      "Training arm 3 on cluster 2\n",
      "cluster_X_train shape: (195662, 69)\n",
      "cluster_y_train shape: (195662, 1)\n",
      "arm_mask shape: (195662,)\n"
     ]
    },
    {
     "name": "stderr",
     "output_type": "stream",
     "text": [
      "d:\\anaconda3\\envs\\menv\\lib\\site-packages\\sklearn\\utils\\validation.py:1408: DataConversionWarning: A column-vector y was passed when a 1d array was expected. Please change the shape of y to (n_samples, ), for example using ravel().\n",
      "  y = column_or_1d(y, warn=True)\n"
     ]
    },
    {
     "name": "stdout",
     "output_type": "stream",
     "text": [
      "Training arm 4 on cluster 2\n",
      "cluster_X_train shape: (195662, 69)\n",
      "cluster_y_train shape: (195662, 1)\n",
      "arm_mask shape: (195662,)\n"
     ]
    },
    {
     "name": "stderr",
     "output_type": "stream",
     "text": [
      "d:\\anaconda3\\envs\\menv\\lib\\site-packages\\sklearn\\neural_network\\_multilayer_perceptron.py:1124: DataConversionWarning: A column-vector y was passed when a 1d array was expected. Please change the shape of y to (n_samples, ), for example using ravel().\n",
      "  y = column_or_1d(y, warn=True)\n"
     ]
    },
    {
     "name": "stdout",
     "output_type": "stream",
     "text": [
      "Setting reward_sums arm 0 on cluster 0\n",
      "Setting reward_sums arm 1 on cluster 0\n",
      "Setting reward_sums arm 2 on cluster 0\n",
      "Setting reward_sums arm 3 on cluster 0\n",
      "Setting reward_sums arm 4 on cluster 0\n",
      "Setting reward_sums arm 0 on cluster 1\n",
      "Setting reward_sums arm 1 on cluster 1\n",
      "Setting reward_sums arm 2 on cluster 1\n",
      "Setting reward_sums arm 3 on cluster 1\n",
      "Setting reward_sums arm 4 on cluster 1\n",
      "Setting reward_sums arm 0 on cluster 2\n",
      "Setting reward_sums arm 1 on cluster 2\n",
      "Setting reward_sums arm 2 on cluster 2\n",
      "Setting reward_sums arm 3 on cluster 2\n",
      "Setting reward_sums arm 4 on cluster 2\n"
     ]
    }
   ],
   "source": [
    "# Train the MAB\n",
    "mab = MultiArmedBanditThompsonSampling(n_arms=5, n_clusters=3)\n",
    "mab.train(df_preprocessed.x_train, df_preprocessed.y_train)"
   ]
  },
  {
   "cell_type": "code",
   "execution_count": 34,
   "metadata": {},
   "outputs": [
    {
     "name": "stdout",
     "output_type": "stream",
     "text": [
      "Unique values in y_pred: [0 1]\n",
      "Unique values in y_test: [0 1]\n",
      "              precision    recall  f1-score   support\n",
      "\n",
      "           0       0.99      0.98      0.99    124297\n",
      "           1       0.98      0.99      0.98     86677\n",
      "\n",
      "    accuracy                           0.99    210974\n",
      "   macro avg       0.98      0.99      0.98    210974\n",
      "weighted avg       0.99      0.99      0.99    210974\n",
      "\n",
      "Accuracy: 0.9852446273000465\n",
      "Recall: 0.9858259337935356\n",
      "F1 Score: 0.9847919437202677\n",
      "ROC AUC Score: 0.9858259337935357\n"
     ]
    }
   ],
   "source": [
    "# Kiểm tra nếu y_test là DataFrame, lấy cột đầu tiên\n",
    "if isinstance(df_preprocessed.y_test, pd.DataFrame):\n",
    "    y_test_series = df_preprocessed.y_test.iloc[:, 0]  # Lấy cột đầu tiên\n",
    "else:\n",
    "    y_test_series = df_preprocessed.y_test  # Nếu là Series thì giữ nguyên\n",
    "\n",
    "# Xử lý giá trị trong y_test\n",
    "y_test_series = y_test_series.astype(str).str.strip()  # Xóa khoảng trắng\n",
    "y_test_series = y_test_series[y_test_series.str.isnumeric()]  # Giữ lại giá trị số\n",
    "y_test = np.array(y_test_series.astype(int))  # Chuyển thành mảng số nguyên\n",
    "\n",
    "# Test the MAB\n",
    "y_pred, selected_arms = mab.predict(df_preprocessed.x_test)\n",
    "\n",
    "# Chuyển đổi y_pred sang kiểu số nguyên\n",
    "y_pred = np.array([int(y) for y in y_pred])\n",
    "\n",
    "# In các giá trị duy nhất\n",
    "print(\"Unique values in y_pred:\", np.unique(y_pred))\n",
    "print(\"Unique values in y_test:\", np.unique(y_test))\n",
    "\n",
    "# Đánh giá mô hình\n",
    "print(classification_report(y_test, y_pred))\n",
    "print(\"Accuracy:\", accuracy_score(y_test, y_pred))\n",
    "print(\"Recall:\", recall_score(y_test, y_pred, average='macro'))\n",
    "print(\"F1 Score:\", f1_score(y_test, y_pred, average='macro'))\n",
    "print(\"ROC AUC Score:\", roc_auc_score(y_test, y_pred))\n"
   ]
  }
 ],
 "metadata": {
  "kernelspec": {
   "display_name": "menv",
   "language": "python",
   "name": "python3"
  },
  "language_info": {
   "codemirror_mode": {
    "name": "ipython",
    "version": 3
   },
   "file_extension": ".py",
   "mimetype": "text/x-python",
   "name": "python",
   "nbconvert_exporter": "python",
   "pygments_lexer": "ipython3",
   "version": "3.9.21"
  }
 },
 "nbformat": 4,
 "nbformat_minor": 2
}
